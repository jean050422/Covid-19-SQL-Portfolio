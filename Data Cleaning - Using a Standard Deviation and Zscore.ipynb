{
 "cells": [
  {
   "cell_type": "code",
   "execution_count": 1,
   "id": "162578ba",
   "metadata": {},
   "outputs": [],
   "source": [
    "import pandas as pd"
   ]
  },
  {
   "cell_type": "code",
   "execution_count": 2,
   "id": "8a3afa55",
   "metadata": {},
   "outputs": [],
   "source": [
    "df = pd.read_csv('https://raw.githubusercontent.com/LinkedInLearning/data_cleaning_python_2883183/main/Ch01/01_03/metrics.csv')"
   ]
  },
  {
   "cell_type": "code",
   "execution_count": 3,
   "id": "3d38928f",
   "metadata": {},
   "outputs": [
    {
     "data": {
      "text/html": [
       "<div>\n",
       "<style scoped>\n",
       "    .dataframe tbody tr th:only-of-type {\n",
       "        vertical-align: middle;\n",
       "    }\n",
       "\n",
       "    .dataframe tbody tr th {\n",
       "        vertical-align: top;\n",
       "    }\n",
       "\n",
       "    .dataframe thead th {\n",
       "        text-align: right;\n",
       "    }\n",
       "</style>\n",
       "<table border=\"1\" class=\"dataframe\">\n",
       "  <thead>\n",
       "    <tr style=\"text-align: right;\">\n",
       "      <th></th>\n",
       "      <th>time</th>\n",
       "      <th>name</th>\n",
       "      <th>value</th>\n",
       "    </tr>\n",
       "  </thead>\n",
       "  <tbody>\n",
       "    <tr>\n",
       "      <th>0</th>\n",
       "      <td>2021-07-13 14:36:52.380</td>\n",
       "      <td>mem</td>\n",
       "      <td>2.275172e+08</td>\n",
       "    </tr>\n",
       "    <tr>\n",
       "      <th>1</th>\n",
       "      <td>2021-07-13 14:36:52.380</td>\n",
       "      <td>cpu</td>\n",
       "      <td>3.157000e+01</td>\n",
       "    </tr>\n",
       "  </tbody>\n",
       "</table>\n",
       "</div>"
      ],
      "text/plain": [
       "                      time name         value\n",
       "0  2021-07-13 14:36:52.380  mem  2.275172e+08\n",
       "1  2021-07-13 14:36:52.380  cpu  3.157000e+01"
      ]
     },
     "execution_count": 3,
     "metadata": {},
     "output_type": "execute_result"
    }
   ],
   "source": [
    "df.head(2)"
   ]
  },
  {
   "cell_type": "code",
   "execution_count": 5,
   "id": "ee2f9b01",
   "metadata": {},
   "outputs": [
    {
     "name": "stdout",
     "output_type": "stream",
     "text": [
      "value    1.143110e+08\n",
      "dtype: float64\n"
     ]
    },
    {
     "name": "stderr",
     "output_type": "stream",
     "text": [
      "/var/folders/_c/7_nlp2l53sbcnpz463hcc70w0000gn/T/ipykernel_2020/665624964.py:3: FutureWarning: Dropping of nuisance columns in DataFrame reductions (with 'numeric_only=None') is deprecated; in a future version this will raise TypeError.  Select only valid columns before calling the reduction.\n",
      "  print(df.std())\n"
     ]
    }
   ],
   "source": [
    "#stddev of numeric columns\n",
    "\n",
    "print(df.std())"
   ]
  },
  {
   "cell_type": "code",
   "execution_count": 6,
   "id": "f46886f0",
   "metadata": {},
   "outputs": [
    {
     "data": {
      "text/html": [
       "<div>\n",
       "<style scoped>\n",
       "    .dataframe tbody tr th:only-of-type {\n",
       "        vertical-align: middle;\n",
       "    }\n",
       "\n",
       "    .dataframe tbody tr th {\n",
       "        vertical-align: top;\n",
       "    }\n",
       "\n",
       "    .dataframe thead th {\n",
       "        text-align: right;\n",
       "    }\n",
       "</style>\n",
       "<table border=\"1\" class=\"dataframe\">\n",
       "  <thead>\n",
       "    <tr style=\"text-align: right;\">\n",
       "      <th></th>\n",
       "      <th>value</th>\n",
       "    </tr>\n",
       "  </thead>\n",
       "  <tbody>\n",
       "    <tr>\n",
       "      <th>count</th>\n",
       "      <td>1.000000e+02</td>\n",
       "    </tr>\n",
       "    <tr>\n",
       "      <th>mean</th>\n",
       "      <td>1.114856e+08</td>\n",
       "    </tr>\n",
       "    <tr>\n",
       "      <th>std</th>\n",
       "      <td>1.143110e+08</td>\n",
       "    </tr>\n",
       "    <tr>\n",
       "      <th>min</th>\n",
       "      <td>-3.214000e+01</td>\n",
       "    </tr>\n",
       "    <tr>\n",
       "      <th>25%</th>\n",
       "      <td>3.152000e+01</td>\n",
       "    </tr>\n",
       "    <tr>\n",
       "      <th>50%</th>\n",
       "      <td>2.979500e+02</td>\n",
       "    </tr>\n",
       "    <tr>\n",
       "      <th>75%</th>\n",
       "      <td>2.275186e+08</td>\n",
       "    </tr>\n",
       "    <tr>\n",
       "      <th>max</th>\n",
       "      <td>2.275561e+08</td>\n",
       "    </tr>\n",
       "  </tbody>\n",
       "</table>\n",
       "</div>"
      ],
      "text/plain": [
       "              value\n",
       "count  1.000000e+02\n",
       "mean   1.114856e+08\n",
       "std    1.143110e+08\n",
       "min   -3.214000e+01\n",
       "25%    3.152000e+01\n",
       "50%    2.979500e+02\n",
       "75%    2.275186e+08\n",
       "max    2.275561e+08"
      ]
     },
     "execution_count": 6,
     "metadata": {},
     "output_type": "execute_result"
    }
   ],
   "source": [
    "df.describe()"
   ]
  },
  {
   "cell_type": "code",
   "execution_count": 12,
   "id": "87da23db",
   "metadata": {},
   "outputs": [
    {
     "data": {
      "text/plain": [
       "0     227517194.0\n",
       "2     227519176.0\n",
       "4     227515712.0\n",
       "6           295.0\n",
       "8     227531324.0\n",
       "11    227528488.0\n",
       "12    227515595.0\n",
       "15    227525066.0\n",
       "17    227531520.0\n",
       "19    227508323.0\n",
       "21    227519918.0\n",
       "23    227523134.0\n",
       "25    227517742.0\n",
       "26    227526537.0\n",
       "28    227514284.0\n",
       "30    227528568.0\n",
       "32    227516744.0\n",
       "35    227538721.0\n",
       "37    227537406.0\n",
       "39    227543777.0\n",
       "40    227555962.0\n",
       "42    227548711.0\n",
       "44    227547875.0\n",
       "46    227540807.0\n",
       "49    227547996.0\n",
       "51    227556054.0\n",
       "53    227551174.0\n",
       "55    227552297.0\n",
       "57    227536294.0\n",
       "59    227529078.0\n",
       "60    227534673.0\n",
       "63    227532677.0\n",
       "64    227529274.0\n",
       "67    227517273.0\n",
       "69    227506948.0\n",
       "71    227497850.0\n",
       "72    227493728.0\n",
       "75    227495928.0\n",
       "77    227512097.0\n",
       "79    227518444.0\n",
       "81    227499510.0\n",
       "83    227507039.0\n",
       "85    227496995.0\n",
       "87    227496194.0\n",
       "88    227509918.0\n",
       "91    227501851.0\n",
       "93    227493116.0\n",
       "95    227498512.0\n",
       "97    227492915.0\n",
       "98    227496663.0\n",
       "Name: value, dtype: float64"
      ]
     },
     "execution_count": 12,
     "metadata": {},
     "output_type": "execute_result"
    }
   ],
   "source": [
    "#stddev mem's value\n",
    "#mem is under name column\n",
    "mem = df[df['name'] == 'mem']['value']\n",
    "mem"
   ]
  },
  {
   "cell_type": "markdown",
   "id": "daf4fff8",
   "metadata": {},
   "source": [
    "A Z-Score is a statistical measurement of a score's relationship to the mean in a group of scores.\n",
    "\n",
    "A Z-score can reveal to a trader if a value is typical for a specified data set or if it is atypical.\n",
    "\n",
    "In general, a Z-score below 1.8 suggests a company might be headed for bankruptcy, \n",
    "while a score closer to 3 suggests a company is in solid financial positioning.\n",
    "\n",
    "Simply put, a z-score (also called a standard score) \n",
    "gives you an idea of how far from the mean a data point is. \n",
    "But more technically it’s a measure of how many standard deviations \n",
    "below or above the population mean a raw score is.\n",
    "\n",
    "The basic z score formula for a sample is:\n",
    "\n",
    "z = (x – μ) / σ\n",
    "\n",
    "The z score tells you how many standard deviations from the mean your score is. In this example, your score is 1.6 standard deviations above the mean.\n",
    "\n",
    "Technically, a z-score is the number of standard deviations from the mean value of the reference population (a population whose known values have been recorded, like in these charts the CDC compiles about people’s weights). For example:\n",
    "\n",
    "A z-score of 1 is 1 standard deviation above the mean.\n",
    "A score of 2 is 2 standard deviations above the mean.\n",
    "A score of -1.8 is -1.8 standard deviations below the mean.\n",
    "\n",
    "A z-score tells you where the score lies on a normal distribution curve. A z-score of zero tells you the values is exactly average while a score of +3 tells you that the value is much higher than average.\n",
    "\n",
    "5. How is it Used in Real Life?\n",
    "You can use the z-table and the normal distribution graph to give you a visual about how a z-score of 2.0 means “higher than average”. Let’s say you have a person’s weight (240 pounds), and you know their z-score is 2.0. You know that 2.0 is above average (because of the high placement on the normal distribution curve), but you want to know how much above average is this weight?\n",
    "\n",
    "The z-score in the center of the curve is zero. The z-scores to the right of the mean are positive and the z-scores to the left of the mean are negative. If you look up the score in the z-table, you can tell what percentage of the population is above or below your score. The table below shows a z-score of 2.0 highlighted, showing .9772 (which converts to 97.72%). If you look at the same score (2.0) of the normal distribution curve above, you’ll see it corresponds with 97.72%."
   ]
  },
  {
   "cell_type": "code",
   "execution_count": 22,
   "id": "d10eac73",
   "metadata": {},
   "outputs": [
    {
     "data": {
      "text/plain": [
       "0     0.141285\n",
       "2     0.141347\n",
       "4     0.141239\n",
       "6    -6.929645\n",
       "8     0.141724\n",
       "11    0.141636\n",
       "12    0.141236\n",
       "15    0.141530\n",
       "17    0.141730\n",
       "19    0.141010\n",
       "21    0.141370\n",
       "23    0.141470\n",
       "25    0.141302\n",
       "26    0.141576\n",
       "28    0.141195\n",
       "30    0.141639\n",
       "32    0.141271\n",
       "35    0.141954\n",
       "37    0.141913\n",
       "39    0.142111\n",
       "40    0.142490\n",
       "42    0.142265\n",
       "44    0.142239\n",
       "46    0.142019\n",
       "49    0.142243\n",
       "51    0.142493\n",
       "53    0.142341\n",
       "55    0.142376\n",
       "57    0.141879\n",
       "59    0.141655\n",
       "60    0.141828\n",
       "63    0.141766\n",
       "64    0.141661\n",
       "67    0.141288\n",
       "69    0.140967\n",
       "71    0.140684\n",
       "72    0.140556\n",
       "75    0.140624\n",
       "77    0.141127\n",
       "79    0.141324\n",
       "81    0.140736\n",
       "83    0.140970\n",
       "85    0.140657\n",
       "87    0.140633\n",
       "88    0.141059\n",
       "91    0.140808\n",
       "93    0.140537\n",
       "95    0.140705\n",
       "97    0.140531\n",
       "98    0.140647\n",
       "Name: value, dtype: float64"
      ]
     },
     "execution_count": 22,
     "metadata": {},
     "output_type": "execute_result"
    }
   ],
   "source": [
    "zscore = (mem - mem.mean())/mem.std()\n",
    "zscore"
   ]
  },
  {
   "cell_type": "code",
   "execution_count": 24,
   "id": "c504f8fc",
   "metadata": {},
   "outputs": [
    {
     "data": {
      "text/plain": [
       "6    295.0\n",
       "Name: value, dtype: float64"
      ]
     },
     "execution_count": 24,
     "metadata": {},
     "output_type": "execute_result"
    }
   ],
   "source": [
    "bad_mem = mem[zscore.abs() > 2]\n",
    "bad_mem"
   ]
  },
  {
   "cell_type": "code",
   "execution_count": 25,
   "id": "ab5f1ae3",
   "metadata": {},
   "outputs": [
    {
     "data": {
      "text/html": [
       "<div>\n",
       "<style scoped>\n",
       "    .dataframe tbody tr th:only-of-type {\n",
       "        vertical-align: middle;\n",
       "    }\n",
       "\n",
       "    .dataframe tbody tr th {\n",
       "        vertical-align: top;\n",
       "    }\n",
       "\n",
       "    .dataframe thead th {\n",
       "        text-align: right;\n",
       "    }\n",
       "</style>\n",
       "<table border=\"1\" class=\"dataframe\">\n",
       "  <thead>\n",
       "    <tr style=\"text-align: right;\">\n",
       "      <th></th>\n",
       "      <th>time</th>\n",
       "      <th>name</th>\n",
       "      <th>value</th>\n",
       "    </tr>\n",
       "  </thead>\n",
       "  <tbody>\n",
       "    <tr>\n",
       "      <th>6</th>\n",
       "      <td>2021-07-13 14:36:55.251</td>\n",
       "      <td>mem</td>\n",
       "      <td>295.0</td>\n",
       "    </tr>\n",
       "  </tbody>\n",
       "</table>\n",
       "</div>"
      ],
      "text/plain": [
       "                      time name  value\n",
       "6  2021-07-13 14:36:55.251  mem  295.0"
      ]
     },
     "execution_count": 25,
     "metadata": {},
     "output_type": "execute_result"
    }
   ],
   "source": [
    "df.loc[bad_mem.index]"
   ]
  }
 ],
 "metadata": {
  "kernelspec": {
   "display_name": "Python 3 (ipykernel)",
   "language": "python",
   "name": "python3"
  },
  "language_info": {
   "codemirror_mode": {
    "name": "ipython",
    "version": 3
   },
   "file_extension": ".py",
   "mimetype": "text/x-python",
   "name": "python",
   "nbconvert_exporter": "python",
   "pygments_lexer": "ipython3",
   "version": "3.9.7"
  }
 },
 "nbformat": 4,
 "nbformat_minor": 5
}
