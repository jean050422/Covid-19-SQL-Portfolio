{
 "cells": [
  {
   "cell_type": "code",
   "execution_count": 1,
   "id": "707c4fc5",
   "metadata": {},
   "outputs": [],
   "source": [
    "import pandas as pd"
   ]
  },
  {
   "cell_type": "code",
   "execution_count": 2,
   "id": "fbc08e3c",
   "metadata": {},
   "outputs": [],
   "source": [
    "# read the csv in\n",
    "\n",
    "df = pd.read_csv('/Users/jean110284/Desktop/Everything/MJUPython/survey_results_public.csv')\n",
    "schema_df = pd.read_csv('/Users/jean110284/Desktop/Everything/MJUPython/survey_results_schema.csv')"
   ]
  },
  {
   "cell_type": "code",
   "execution_count": 3,
   "id": "fa4768bd",
   "metadata": {},
   "outputs": [],
   "source": [
    "# to see all rows and columns\n",
    "\n",
    "pd.set_option('display.max_columns', 85)\n",
    "pd.set_option('display.max_rows', 85)"
   ]
  },
  {
   "cell_type": "code",
   "execution_count": 4,
   "id": "030420c2",
   "metadata": {},
   "outputs": [
    {
     "data": {
      "text/html": [
       "<div>\n",
       "<style scoped>\n",
       "    .dataframe tbody tr th:only-of-type {\n",
       "        vertical-align: middle;\n",
       "    }\n",
       "\n",
       "    .dataframe tbody tr th {\n",
       "        vertical-align: top;\n",
       "    }\n",
       "\n",
       "    .dataframe thead th {\n",
       "        text-align: right;\n",
       "    }\n",
       "</style>\n",
       "<table border=\"1\" class=\"dataframe\">\n",
       "  <thead>\n",
       "    <tr style=\"text-align: right;\">\n",
       "      <th></th>\n",
       "      <th>ResponseId</th>\n",
       "      <th>MainBranch</th>\n",
       "      <th>Employment</th>\n",
       "      <th>Country</th>\n",
       "      <th>US_State</th>\n",
       "      <th>UK_Country</th>\n",
       "      <th>EdLevel</th>\n",
       "      <th>Age1stCode</th>\n",
       "      <th>LearnCode</th>\n",
       "      <th>YearsCode</th>\n",
       "      <th>YearsCodePro</th>\n",
       "      <th>DevType</th>\n",
       "      <th>OrgSize</th>\n",
       "      <th>Currency</th>\n",
       "      <th>CompTotal</th>\n",
       "      <th>CompFreq</th>\n",
       "      <th>LanguageHaveWorkedWith</th>\n",
       "      <th>LanguageWantToWorkWith</th>\n",
       "      <th>DatabaseHaveWorkedWith</th>\n",
       "      <th>DatabaseWantToWorkWith</th>\n",
       "      <th>PlatformHaveWorkedWith</th>\n",
       "      <th>PlatformWantToWorkWith</th>\n",
       "      <th>WebframeHaveWorkedWith</th>\n",
       "      <th>WebframeWantToWorkWith</th>\n",
       "      <th>MiscTechHaveWorkedWith</th>\n",
       "      <th>MiscTechWantToWorkWith</th>\n",
       "      <th>ToolsTechHaveWorkedWith</th>\n",
       "      <th>ToolsTechWantToWorkWith</th>\n",
       "      <th>NEWCollabToolsHaveWorkedWith</th>\n",
       "      <th>NEWCollabToolsWantToWorkWith</th>\n",
       "      <th>OpSys</th>\n",
       "      <th>NEWStuck</th>\n",
       "      <th>NEWSOSites</th>\n",
       "      <th>SOVisitFreq</th>\n",
       "      <th>SOAccount</th>\n",
       "      <th>SOPartFreq</th>\n",
       "      <th>SOComm</th>\n",
       "      <th>NEWOtherComms</th>\n",
       "      <th>Age</th>\n",
       "      <th>Gender</th>\n",
       "      <th>Trans</th>\n",
       "      <th>Sexuality</th>\n",
       "      <th>Ethnicity</th>\n",
       "      <th>Accessibility</th>\n",
       "      <th>MentalHealth</th>\n",
       "      <th>SurveyLength</th>\n",
       "      <th>SurveyEase</th>\n",
       "      <th>ConvertedCompYearly</th>\n",
       "    </tr>\n",
       "  </thead>\n",
       "  <tbody>\n",
       "    <tr>\n",
       "      <th>0</th>\n",
       "      <td>1</td>\n",
       "      <td>I am a developer by profession</td>\n",
       "      <td>Independent contractor, freelancer, or self-em...</td>\n",
       "      <td>Slovakia</td>\n",
       "      <td>NaN</td>\n",
       "      <td>NaN</td>\n",
       "      <td>Secondary school (e.g. American high school, G...</td>\n",
       "      <td>18 - 24 years</td>\n",
       "      <td>Coding Bootcamp;Other online resources (ex: vi...</td>\n",
       "      <td>NaN</td>\n",
       "      <td>NaN</td>\n",
       "      <td>Developer, mobile</td>\n",
       "      <td>20 to 99 employees</td>\n",
       "      <td>EUR European Euro</td>\n",
       "      <td>4800.0</td>\n",
       "      <td>Monthly</td>\n",
       "      <td>C++;HTML/CSS;JavaScript;Objective-C;PHP;Swift</td>\n",
       "      <td>Swift</td>\n",
       "      <td>PostgreSQL;SQLite</td>\n",
       "      <td>SQLite</td>\n",
       "      <td>NaN</td>\n",
       "      <td>NaN</td>\n",
       "      <td>Laravel;Symfony</td>\n",
       "      <td>NaN</td>\n",
       "      <td>NaN</td>\n",
       "      <td>NaN</td>\n",
       "      <td>NaN</td>\n",
       "      <td>NaN</td>\n",
       "      <td>PHPStorm;Xcode</td>\n",
       "      <td>Atom;Xcode</td>\n",
       "      <td>MacOS</td>\n",
       "      <td>Call a coworker or friend;Visit Stack Overflow...</td>\n",
       "      <td>Stack Overflow</td>\n",
       "      <td>Multiple times per day</td>\n",
       "      <td>Yes</td>\n",
       "      <td>A few times per month or weekly</td>\n",
       "      <td>Yes, definitely</td>\n",
       "      <td>No</td>\n",
       "      <td>25-34 years old</td>\n",
       "      <td>Man</td>\n",
       "      <td>No</td>\n",
       "      <td>Straight / Heterosexual</td>\n",
       "      <td>White or of European descent</td>\n",
       "      <td>None of the above</td>\n",
       "      <td>None of the above</td>\n",
       "      <td>Appropriate in length</td>\n",
       "      <td>Easy</td>\n",
       "      <td>62268.0</td>\n",
       "    </tr>\n",
       "    <tr>\n",
       "      <th>1</th>\n",
       "      <td>2</td>\n",
       "      <td>I am a student who is learning to code</td>\n",
       "      <td>Student, full-time</td>\n",
       "      <td>Netherlands</td>\n",
       "      <td>NaN</td>\n",
       "      <td>NaN</td>\n",
       "      <td>Bachelor’s degree (B.A., B.S., B.Eng., etc.)</td>\n",
       "      <td>11 - 17 years</td>\n",
       "      <td>Other online resources (ex: videos, blogs, etc...</td>\n",
       "      <td>7</td>\n",
       "      <td>NaN</td>\n",
       "      <td>NaN</td>\n",
       "      <td>NaN</td>\n",
       "      <td>NaN</td>\n",
       "      <td>NaN</td>\n",
       "      <td>NaN</td>\n",
       "      <td>JavaScript;Python</td>\n",
       "      <td>NaN</td>\n",
       "      <td>PostgreSQL</td>\n",
       "      <td>NaN</td>\n",
       "      <td>NaN</td>\n",
       "      <td>NaN</td>\n",
       "      <td>Angular;Flask;Vue.js</td>\n",
       "      <td>NaN</td>\n",
       "      <td>Cordova</td>\n",
       "      <td>NaN</td>\n",
       "      <td>Docker;Git;Yarn</td>\n",
       "      <td>Git</td>\n",
       "      <td>Android Studio;IntelliJ;Notepad++;PyCharm</td>\n",
       "      <td>NaN</td>\n",
       "      <td>Windows</td>\n",
       "      <td>Visit Stack Overflow;Google it</td>\n",
       "      <td>Stack Overflow</td>\n",
       "      <td>Daily or almost daily</td>\n",
       "      <td>Yes</td>\n",
       "      <td>Daily or almost daily</td>\n",
       "      <td>Yes, definitely</td>\n",
       "      <td>No</td>\n",
       "      <td>18-24 years old</td>\n",
       "      <td>Man</td>\n",
       "      <td>No</td>\n",
       "      <td>Straight / Heterosexual</td>\n",
       "      <td>White or of European descent</td>\n",
       "      <td>None of the above</td>\n",
       "      <td>None of the above</td>\n",
       "      <td>Appropriate in length</td>\n",
       "      <td>Easy</td>\n",
       "      <td>NaN</td>\n",
       "    </tr>\n",
       "  </tbody>\n",
       "</table>\n",
       "</div>"
      ],
      "text/plain": [
       "   ResponseId                              MainBranch  \\\n",
       "0           1          I am a developer by profession   \n",
       "1           2  I am a student who is learning to code   \n",
       "\n",
       "                                          Employment      Country US_State  \\\n",
       "0  Independent contractor, freelancer, or self-em...     Slovakia      NaN   \n",
       "1                                 Student, full-time  Netherlands      NaN   \n",
       "\n",
       "  UK_Country                                            EdLevel  \\\n",
       "0        NaN  Secondary school (e.g. American high school, G...   \n",
       "1        NaN       Bachelor’s degree (B.A., B.S., B.Eng., etc.)   \n",
       "\n",
       "      Age1stCode                                          LearnCode YearsCode  \\\n",
       "0  18 - 24 years  Coding Bootcamp;Other online resources (ex: vi...       NaN   \n",
       "1  11 - 17 years  Other online resources (ex: videos, blogs, etc...         7   \n",
       "\n",
       "  YearsCodePro            DevType             OrgSize           Currency  \\\n",
       "0          NaN  Developer, mobile  20 to 99 employees  EUR European Euro   \n",
       "1          NaN                NaN                 NaN                NaN   \n",
       "\n",
       "   CompTotal CompFreq                         LanguageHaveWorkedWith  \\\n",
       "0     4800.0  Monthly  C++;HTML/CSS;JavaScript;Objective-C;PHP;Swift   \n",
       "1        NaN      NaN                              JavaScript;Python   \n",
       "\n",
       "  LanguageWantToWorkWith DatabaseHaveWorkedWith DatabaseWantToWorkWith  \\\n",
       "0                  Swift      PostgreSQL;SQLite                 SQLite   \n",
       "1                    NaN             PostgreSQL                    NaN   \n",
       "\n",
       "  PlatformHaveWorkedWith PlatformWantToWorkWith WebframeHaveWorkedWith  \\\n",
       "0                    NaN                    NaN        Laravel;Symfony   \n",
       "1                    NaN                    NaN   Angular;Flask;Vue.js   \n",
       "\n",
       "  WebframeWantToWorkWith MiscTechHaveWorkedWith MiscTechWantToWorkWith  \\\n",
       "0                    NaN                    NaN                    NaN   \n",
       "1                    NaN                Cordova                    NaN   \n",
       "\n",
       "  ToolsTechHaveWorkedWith ToolsTechWantToWorkWith  \\\n",
       "0                     NaN                     NaN   \n",
       "1         Docker;Git;Yarn                     Git   \n",
       "\n",
       "                NEWCollabToolsHaveWorkedWith NEWCollabToolsWantToWorkWith  \\\n",
       "0                             PHPStorm;Xcode                   Atom;Xcode   \n",
       "1  Android Studio;IntelliJ;Notepad++;PyCharm                          NaN   \n",
       "\n",
       "     OpSys                                           NEWStuck      NEWSOSites  \\\n",
       "0    MacOS  Call a coworker or friend;Visit Stack Overflow...  Stack Overflow   \n",
       "1  Windows                     Visit Stack Overflow;Google it  Stack Overflow   \n",
       "\n",
       "              SOVisitFreq SOAccount                       SOPartFreq  \\\n",
       "0  Multiple times per day       Yes  A few times per month or weekly   \n",
       "1   Daily or almost daily       Yes            Daily or almost daily   \n",
       "\n",
       "            SOComm NEWOtherComms              Age Gender Trans  \\\n",
       "0  Yes, definitely            No  25-34 years old    Man    No   \n",
       "1  Yes, definitely            No  18-24 years old    Man    No   \n",
       "\n",
       "                 Sexuality                     Ethnicity      Accessibility  \\\n",
       "0  Straight / Heterosexual  White or of European descent  None of the above   \n",
       "1  Straight / Heterosexual  White or of European descent  None of the above   \n",
       "\n",
       "        MentalHealth           SurveyLength SurveyEase  ConvertedCompYearly  \n",
       "0  None of the above  Appropriate in length       Easy              62268.0  \n",
       "1  None of the above  Appropriate in length       Easy                  NaN  "
      ]
     },
     "execution_count": 4,
     "metadata": {},
     "output_type": "execute_result"
    }
   ],
   "source": [
    "df.head(2)"
   ]
  },
  {
   "cell_type": "code",
   "execution_count": 5,
   "id": "3fb06db9",
   "metadata": {},
   "outputs": [],
   "source": [
    "# these data are survey results\n",
    "# each row is a survey per person\n",
    "# if you want to know what a hobbiest as an example,use schema\n",
    "\n",
    "schema_df = pd.read_csv('/Users/jean110284/Desktop/Everything/MJUPython/survey_results_schema.csv')"
   ]
  },
  {
   "cell_type": "code",
   "execution_count": 6,
   "id": "b8602806",
   "metadata": {},
   "outputs": [
    {
     "data": {
      "text/html": [
       "<div>\n",
       "<style scoped>\n",
       "    .dataframe tbody tr th:only-of-type {\n",
       "        vertical-align: middle;\n",
       "    }\n",
       "\n",
       "    .dataframe tbody tr th {\n",
       "        vertical-align: top;\n",
       "    }\n",
       "\n",
       "    .dataframe thead th {\n",
       "        text-align: right;\n",
       "    }\n",
       "</style>\n",
       "<table border=\"1\" class=\"dataframe\">\n",
       "  <thead>\n",
       "    <tr style=\"text-align: right;\">\n",
       "      <th></th>\n",
       "      <th>qid</th>\n",
       "      <th>qname</th>\n",
       "      <th>question</th>\n",
       "      <th>force_resp</th>\n",
       "      <th>type</th>\n",
       "      <th>selector</th>\n",
       "    </tr>\n",
       "  </thead>\n",
       "  <tbody>\n",
       "    <tr>\n",
       "      <th>0</th>\n",
       "      <td>QID16</td>\n",
       "      <td>S0</td>\n",
       "      <td>&lt;div&gt;&lt;span style=\"font-size:19px;\"&gt;&lt;strong&gt;Hel...</td>\n",
       "      <td>False</td>\n",
       "      <td>DB</td>\n",
       "      <td>TB</td>\n",
       "    </tr>\n",
       "    <tr>\n",
       "      <th>1</th>\n",
       "      <td>QID12</td>\n",
       "      <td>MetaInfo</td>\n",
       "      <td>Browser Meta Info</td>\n",
       "      <td>False</td>\n",
       "      <td>Meta</td>\n",
       "      <td>Browser</td>\n",
       "    </tr>\n",
       "    <tr>\n",
       "      <th>2</th>\n",
       "      <td>QID1</td>\n",
       "      <td>S1</td>\n",
       "      <td>&lt;span style=\"font-size:22px; font-family: aria...</td>\n",
       "      <td>False</td>\n",
       "      <td>DB</td>\n",
       "      <td>TB</td>\n",
       "    </tr>\n",
       "    <tr>\n",
       "      <th>3</th>\n",
       "      <td>QID2</td>\n",
       "      <td>MainBranch</td>\n",
       "      <td>Which of the following options best describes ...</td>\n",
       "      <td>True</td>\n",
       "      <td>MC</td>\n",
       "      <td>SAVR</td>\n",
       "    </tr>\n",
       "    <tr>\n",
       "      <th>4</th>\n",
       "      <td>QID24</td>\n",
       "      <td>Employment</td>\n",
       "      <td>Which of the following best describes your cur...</td>\n",
       "      <td>False</td>\n",
       "      <td>MC</td>\n",
       "      <td>MAVR</td>\n",
       "    </tr>\n",
       "    <tr>\n",
       "      <th>5</th>\n",
       "      <td>QID6</td>\n",
       "      <td>Country</td>\n",
       "      <td>Where do you live? &lt;span style=\"font-weight: b...</td>\n",
       "      <td>True</td>\n",
       "      <td>MC</td>\n",
       "      <td>DL</td>\n",
       "    </tr>\n",
       "    <tr>\n",
       "      <th>6</th>\n",
       "      <td>QID7</td>\n",
       "      <td>US_State</td>\n",
       "      <td>&lt;p&gt;In which state or territory of the USA do y...</td>\n",
       "      <td>False</td>\n",
       "      <td>MC</td>\n",
       "      <td>DL</td>\n",
       "    </tr>\n",
       "    <tr>\n",
       "      <th>7</th>\n",
       "      <td>QID9</td>\n",
       "      <td>UK_Country</td>\n",
       "      <td>In which part of the United Kingdom do you liv...</td>\n",
       "      <td>False</td>\n",
       "      <td>MC</td>\n",
       "      <td>DL</td>\n",
       "    </tr>\n",
       "    <tr>\n",
       "      <th>8</th>\n",
       "      <td>QID190</td>\n",
       "      <td>S2</td>\n",
       "      <td>&lt;span style=\"font-size:22px; font-family: aria...</td>\n",
       "      <td>False</td>\n",
       "      <td>DB</td>\n",
       "      <td>TB</td>\n",
       "    </tr>\n",
       "    <tr>\n",
       "      <th>9</th>\n",
       "      <td>QID25</td>\n",
       "      <td>EdLevel</td>\n",
       "      <td>Which of the following best describes the high...</td>\n",
       "      <td>False</td>\n",
       "      <td>MC</td>\n",
       "      <td>SAVR</td>\n",
       "    </tr>\n",
       "    <tr>\n",
       "      <th>10</th>\n",
       "      <td>QID149</td>\n",
       "      <td>Age1stCode</td>\n",
       "      <td>At what age did you write your first line of c...</td>\n",
       "      <td>False</td>\n",
       "      <td>MC</td>\n",
       "      <td>MAVR</td>\n",
       "    </tr>\n",
       "    <tr>\n",
       "      <th>11</th>\n",
       "      <td>QID276</td>\n",
       "      <td>LearnCode</td>\n",
       "      <td>How did you learn to code? Select all that apply.</td>\n",
       "      <td>False</td>\n",
       "      <td>MC</td>\n",
       "      <td>MAVR</td>\n",
       "    </tr>\n",
       "    <tr>\n",
       "      <th>12</th>\n",
       "      <td>QID32</td>\n",
       "      <td>YearsCode</td>\n",
       "      <td>Including any education, how many years have y...</td>\n",
       "      <td>False</td>\n",
       "      <td>MC</td>\n",
       "      <td>DL</td>\n",
       "    </tr>\n",
       "    <tr>\n",
       "      <th>13</th>\n",
       "      <td>QID34</td>\n",
       "      <td>YearsCodePro</td>\n",
       "      <td>NOT including education, how many years have y...</td>\n",
       "      <td>False</td>\n",
       "      <td>MC</td>\n",
       "      <td>DL</td>\n",
       "    </tr>\n",
       "    <tr>\n",
       "      <th>14</th>\n",
       "      <td>QID31</td>\n",
       "      <td>DevType</td>\n",
       "      <td>Which of the following describes your current ...</td>\n",
       "      <td>False</td>\n",
       "      <td>MC</td>\n",
       "      <td>MAVR</td>\n",
       "    </tr>\n",
       "    <tr>\n",
       "      <th>15</th>\n",
       "      <td>QID29</td>\n",
       "      <td>OrgSize</td>\n",
       "      <td>Approximately how many people are employed by ...</td>\n",
       "      <td>False</td>\n",
       "      <td>MC</td>\n",
       "      <td>MAVR</td>\n",
       "    </tr>\n",
       "    <tr>\n",
       "      <th>16</th>\n",
       "      <td>QID50</td>\n",
       "      <td>Currency</td>\n",
       "      <td>Which currency do you use day-to-day? If your ...</td>\n",
       "      <td>True</td>\n",
       "      <td>MC</td>\n",
       "      <td>SB</td>\n",
       "    </tr>\n",
       "    <tr>\n",
       "      <th>17</th>\n",
       "      <td>QID51</td>\n",
       "      <td>CompTotal</td>\n",
       "      <td>What is your current total compensation (salar...</td>\n",
       "      <td>False</td>\n",
       "      <td>TE</td>\n",
       "      <td>SL</td>\n",
       "    </tr>\n",
       "    <tr>\n",
       "      <th>18</th>\n",
       "      <td>QID52</td>\n",
       "      <td>CompFreq</td>\n",
       "      <td>Is that compensation weekly, monthly, or yearly?</td>\n",
       "      <td>False</td>\n",
       "      <td>MC</td>\n",
       "      <td>MAVR</td>\n",
       "    </tr>\n",
       "    <tr>\n",
       "      <th>19</th>\n",
       "      <td>QID61</td>\n",
       "      <td>S3</td>\n",
       "      <td>&lt;span style=\"font-size:22px; font-family: aria...</td>\n",
       "      <td>False</td>\n",
       "      <td>DB</td>\n",
       "      <td>TB</td>\n",
       "    </tr>\n",
       "    <tr>\n",
       "      <th>20</th>\n",
       "      <td>QID233</td>\n",
       "      <td>Language</td>\n",
       "      <td>Which &lt;b&gt;programming, scripting, and markup la...</td>\n",
       "      <td>False</td>\n",
       "      <td>Matrix</td>\n",
       "      <td>Likert</td>\n",
       "    </tr>\n",
       "    <tr>\n",
       "      <th>21</th>\n",
       "      <td>QID262</td>\n",
       "      <td>Database</td>\n",
       "      <td>Which &lt;b&gt;database environments &lt;/b&gt;have you do...</td>\n",
       "      <td>False</td>\n",
       "      <td>Matrix</td>\n",
       "      <td>Likert</td>\n",
       "    </tr>\n",
       "    <tr>\n",
       "      <th>22</th>\n",
       "      <td>QID263</td>\n",
       "      <td>Platform</td>\n",
       "      <td>Which &lt;b&gt;cloud platforms&lt;/b&gt; have you done ext...</td>\n",
       "      <td>False</td>\n",
       "      <td>Matrix</td>\n",
       "      <td>Likert</td>\n",
       "    </tr>\n",
       "    <tr>\n",
       "      <th>23</th>\n",
       "      <td>QID264</td>\n",
       "      <td>Webframe</td>\n",
       "      <td>Which &lt;strong&gt;web frameworks &lt;/strong&gt;&lt;span st...</td>\n",
       "      <td>False</td>\n",
       "      <td>Matrix</td>\n",
       "      <td>Likert</td>\n",
       "    </tr>\n",
       "    <tr>\n",
       "      <th>24</th>\n",
       "      <td>QID265</td>\n",
       "      <td>MiscTech</td>\n",
       "      <td>Which &lt;b&gt;other frameworks and libraries&lt;/b&gt; ha...</td>\n",
       "      <td>False</td>\n",
       "      <td>Matrix</td>\n",
       "      <td>Likert</td>\n",
       "    </tr>\n",
       "    <tr>\n",
       "      <th>25</th>\n",
       "      <td>QID275</td>\n",
       "      <td>ToolsTech</td>\n",
       "      <td>Which &lt;strong&gt;tools&lt;/strong&gt; have you done ext...</td>\n",
       "      <td>False</td>\n",
       "      <td>Matrix</td>\n",
       "      <td>Likert</td>\n",
       "    </tr>\n",
       "    <tr>\n",
       "      <th>26</th>\n",
       "      <td>QID274</td>\n",
       "      <td>NEWCollabTools</td>\n",
       "      <td>Which &lt;strong&gt;development environments&lt;/strong...</td>\n",
       "      <td>False</td>\n",
       "      <td>Matrix</td>\n",
       "      <td>Likert</td>\n",
       "    </tr>\n",
       "    <tr>\n",
       "      <th>27</th>\n",
       "      <td>QID71</td>\n",
       "      <td>OpSys</td>\n",
       "      <td>What is the primary operating system in which ...</td>\n",
       "      <td>False</td>\n",
       "      <td>MC</td>\n",
       "      <td>SAVR</td>\n",
       "    </tr>\n",
       "    <tr>\n",
       "      <th>28</th>\n",
       "      <td>QID243</td>\n",
       "      <td>NEWStuck</td>\n",
       "      <td>What do you do when you get stuck on a problem...</td>\n",
       "      <td>False</td>\n",
       "      <td>MC</td>\n",
       "      <td>MAVR</td>\n",
       "    </tr>\n",
       "    <tr>\n",
       "      <th>29</th>\n",
       "      <td>QID91</td>\n",
       "      <td>S4</td>\n",
       "      <td>&lt;span style=\"font-size:22px; font-family: aria...</td>\n",
       "      <td>False</td>\n",
       "      <td>DB</td>\n",
       "      <td>TB</td>\n",
       "    </tr>\n",
       "    <tr>\n",
       "      <th>30</th>\n",
       "      <td>QID266</td>\n",
       "      <td>NEWSOSites</td>\n",
       "      <td>Which of the following Stack Overflow sites ha...</td>\n",
       "      <td>False</td>\n",
       "      <td>MC</td>\n",
       "      <td>MAVR</td>\n",
       "    </tr>\n",
       "    <tr>\n",
       "      <th>31</th>\n",
       "      <td>QID100</td>\n",
       "      <td>SOVisitFreq</td>\n",
       "      <td>How frequently would you say you visit Stack O...</td>\n",
       "      <td>False</td>\n",
       "      <td>MC</td>\n",
       "      <td>MAVR</td>\n",
       "    </tr>\n",
       "    <tr>\n",
       "      <th>32</th>\n",
       "      <td>QID101</td>\n",
       "      <td>SOAccount</td>\n",
       "      <td>Do you have a Stack Overflow account?</td>\n",
       "      <td>False</td>\n",
       "      <td>MC</td>\n",
       "      <td>MAVR</td>\n",
       "    </tr>\n",
       "    <tr>\n",
       "      <th>33</th>\n",
       "      <td>QID102</td>\n",
       "      <td>SOPartFreq</td>\n",
       "      <td>How frequently would you say you participate i...</td>\n",
       "      <td>False</td>\n",
       "      <td>MC</td>\n",
       "      <td>MAVR</td>\n",
       "    </tr>\n",
       "    <tr>\n",
       "      <th>34</th>\n",
       "      <td>QID106</td>\n",
       "      <td>SOComm</td>\n",
       "      <td>Do you consider yourself a member of the Stack...</td>\n",
       "      <td>False</td>\n",
       "      <td>MC</td>\n",
       "      <td>MAVR</td>\n",
       "    </tr>\n",
       "    <tr>\n",
       "      <th>35</th>\n",
       "      <td>QID267</td>\n",
       "      <td>NEWOtherComms</td>\n",
       "      <td>Are you a member of any other online developer...</td>\n",
       "      <td>False</td>\n",
       "      <td>MC</td>\n",
       "      <td>MAVR</td>\n",
       "    </tr>\n",
       "    <tr>\n",
       "      <th>36</th>\n",
       "      <td>QID268</td>\n",
       "      <td>NEWOtherCommsNames</td>\n",
       "      <td>Please name up to 5 other online developer com...</td>\n",
       "      <td>False</td>\n",
       "      <td>Matrix</td>\n",
       "      <td>Likert</td>\n",
       "    </tr>\n",
       "    <tr>\n",
       "      <th>37</th>\n",
       "      <td>QID121</td>\n",
       "      <td>S5</td>\n",
       "      <td>&lt;span style=\"font-size:22px; font-family: aria...</td>\n",
       "      <td>False</td>\n",
       "      <td>DB</td>\n",
       "      <td>TB</td>\n",
       "    </tr>\n",
       "    <tr>\n",
       "      <th>38</th>\n",
       "      <td>QID127</td>\n",
       "      <td>Age</td>\n",
       "      <td>What is your age?</td>\n",
       "      <td>False</td>\n",
       "      <td>MC</td>\n",
       "      <td>MAVR</td>\n",
       "    </tr>\n",
       "    <tr>\n",
       "      <th>39</th>\n",
       "      <td>QID122</td>\n",
       "      <td>Gender</td>\n",
       "      <td>Which of the following describe you, if any? P...</td>\n",
       "      <td>False</td>\n",
       "      <td>MC</td>\n",
       "      <td>MAVR</td>\n",
       "    </tr>\n",
       "    <tr>\n",
       "      <th>40</th>\n",
       "      <td>QID153</td>\n",
       "      <td>Trans</td>\n",
       "      <td>Do you identify as transgender?</td>\n",
       "      <td>False</td>\n",
       "      <td>MC</td>\n",
       "      <td>MAVR</td>\n",
       "    </tr>\n",
       "    <tr>\n",
       "      <th>41</th>\n",
       "      <td>QID136</td>\n",
       "      <td>Sexuality</td>\n",
       "      <td>Which of the following describe you, if any? P...</td>\n",
       "      <td>False</td>\n",
       "      <td>MC</td>\n",
       "      <td>MAVR</td>\n",
       "    </tr>\n",
       "    <tr>\n",
       "      <th>42</th>\n",
       "      <td>QID126</td>\n",
       "      <td>Ethnicity</td>\n",
       "      <td>Which of the following describe you, if any? P...</td>\n",
       "      <td>False</td>\n",
       "      <td>MC</td>\n",
       "      <td>MAVR</td>\n",
       "    </tr>\n",
       "    <tr>\n",
       "      <th>43</th>\n",
       "      <td>QID124</td>\n",
       "      <td>Accessibility</td>\n",
       "      <td>Which of the following describe you, if any? P...</td>\n",
       "      <td>False</td>\n",
       "      <td>MC</td>\n",
       "      <td>MAVR</td>\n",
       "    </tr>\n",
       "    <tr>\n",
       "      <th>44</th>\n",
       "      <td>QID125</td>\n",
       "      <td>MentalHealth</td>\n",
       "      <td>Which of the following describe you, if any? P...</td>\n",
       "      <td>False</td>\n",
       "      <td>MC</td>\n",
       "      <td>MAVR</td>\n",
       "    </tr>\n",
       "    <tr>\n",
       "      <th>45</th>\n",
       "      <td>QID131</td>\n",
       "      <td>S6</td>\n",
       "      <td>&lt;span style=\"font-size:22px;\"&gt;&lt;strong&gt;Final Qu...</td>\n",
       "      <td>False</td>\n",
       "      <td>DB</td>\n",
       "      <td>TB</td>\n",
       "    </tr>\n",
       "    <tr>\n",
       "      <th>46</th>\n",
       "      <td>QID132</td>\n",
       "      <td>SurveyLength</td>\n",
       "      <td>How do you feel about the length of the survey...</td>\n",
       "      <td>False</td>\n",
       "      <td>MC</td>\n",
       "      <td>MAVR</td>\n",
       "    </tr>\n",
       "    <tr>\n",
       "      <th>47</th>\n",
       "      <td>QID133</td>\n",
       "      <td>SurveyEase</td>\n",
       "      <td>How easy or difficult was this survey to compl...</td>\n",
       "      <td>False</td>\n",
       "      <td>MC</td>\n",
       "      <td>MAVR</td>\n",
       "    </tr>\n",
       "  </tbody>\n",
       "</table>\n",
       "</div>"
      ],
      "text/plain": [
       "       qid               qname  \\\n",
       "0    QID16                  S0   \n",
       "1    QID12            MetaInfo   \n",
       "2     QID1                  S1   \n",
       "3     QID2          MainBranch   \n",
       "4    QID24          Employment   \n",
       "5     QID6             Country   \n",
       "6     QID7            US_State   \n",
       "7     QID9          UK_Country   \n",
       "8   QID190                  S2   \n",
       "9    QID25             EdLevel   \n",
       "10  QID149          Age1stCode   \n",
       "11  QID276           LearnCode   \n",
       "12   QID32           YearsCode   \n",
       "13   QID34        YearsCodePro   \n",
       "14   QID31             DevType   \n",
       "15   QID29             OrgSize   \n",
       "16   QID50            Currency   \n",
       "17   QID51           CompTotal   \n",
       "18   QID52            CompFreq   \n",
       "19   QID61                  S3   \n",
       "20  QID233            Language   \n",
       "21  QID262            Database   \n",
       "22  QID263            Platform   \n",
       "23  QID264            Webframe   \n",
       "24  QID265            MiscTech   \n",
       "25  QID275           ToolsTech   \n",
       "26  QID274      NEWCollabTools   \n",
       "27   QID71               OpSys   \n",
       "28  QID243            NEWStuck   \n",
       "29   QID91                  S4   \n",
       "30  QID266          NEWSOSites   \n",
       "31  QID100         SOVisitFreq   \n",
       "32  QID101           SOAccount   \n",
       "33  QID102          SOPartFreq   \n",
       "34  QID106              SOComm   \n",
       "35  QID267       NEWOtherComms   \n",
       "36  QID268  NEWOtherCommsNames   \n",
       "37  QID121                  S5   \n",
       "38  QID127                 Age   \n",
       "39  QID122              Gender   \n",
       "40  QID153               Trans   \n",
       "41  QID136           Sexuality   \n",
       "42  QID126           Ethnicity   \n",
       "43  QID124       Accessibility   \n",
       "44  QID125        MentalHealth   \n",
       "45  QID131                  S6   \n",
       "46  QID132        SurveyLength   \n",
       "47  QID133          SurveyEase   \n",
       "\n",
       "                                             question  force_resp    type  \\\n",
       "0   <div><span style=\"font-size:19px;\"><strong>Hel...       False      DB   \n",
       "1                                   Browser Meta Info       False    Meta   \n",
       "2   <span style=\"font-size:22px; font-family: aria...       False      DB   \n",
       "3   Which of the following options best describes ...        True      MC   \n",
       "4   Which of the following best describes your cur...       False      MC   \n",
       "5   Where do you live? <span style=\"font-weight: b...        True      MC   \n",
       "6   <p>In which state or territory of the USA do y...       False      MC   \n",
       "7   In which part of the United Kingdom do you liv...       False      MC   \n",
       "8   <span style=\"font-size:22px; font-family: aria...       False      DB   \n",
       "9   Which of the following best describes the high...       False      MC   \n",
       "10  At what age did you write your first line of c...       False      MC   \n",
       "11  How did you learn to code? Select all that apply.       False      MC   \n",
       "12  Including any education, how many years have y...       False      MC   \n",
       "13  NOT including education, how many years have y...       False      MC   \n",
       "14  Which of the following describes your current ...       False      MC   \n",
       "15  Approximately how many people are employed by ...       False      MC   \n",
       "16  Which currency do you use day-to-day? If your ...        True      MC   \n",
       "17  What is your current total compensation (salar...       False      TE   \n",
       "18   Is that compensation weekly, monthly, or yearly?       False      MC   \n",
       "19  <span style=\"font-size:22px; font-family: aria...       False      DB   \n",
       "20  Which <b>programming, scripting, and markup la...       False  Matrix   \n",
       "21  Which <b>database environments </b>have you do...       False  Matrix   \n",
       "22  Which <b>cloud platforms</b> have you done ext...       False  Matrix   \n",
       "23  Which <strong>web frameworks </strong><span st...       False  Matrix   \n",
       "24  Which <b>other frameworks and libraries</b> ha...       False  Matrix   \n",
       "25  Which <strong>tools</strong> have you done ext...       False  Matrix   \n",
       "26  Which <strong>development environments</strong...       False  Matrix   \n",
       "27  What is the primary operating system in which ...       False      MC   \n",
       "28  What do you do when you get stuck on a problem...       False      MC   \n",
       "29  <span style=\"font-size:22px; font-family: aria...       False      DB   \n",
       "30  Which of the following Stack Overflow sites ha...       False      MC   \n",
       "31  How frequently would you say you visit Stack O...       False      MC   \n",
       "32              Do you have a Stack Overflow account?       False      MC   \n",
       "33  How frequently would you say you participate i...       False      MC   \n",
       "34  Do you consider yourself a member of the Stack...       False      MC   \n",
       "35  Are you a member of any other online developer...       False      MC   \n",
       "36  Please name up to 5 other online developer com...       False  Matrix   \n",
       "37  <span style=\"font-size:22px; font-family: aria...       False      DB   \n",
       "38                                  What is your age?       False      MC   \n",
       "39  Which of the following describe you, if any? P...       False      MC   \n",
       "40                    Do you identify as transgender?       False      MC   \n",
       "41  Which of the following describe you, if any? P...       False      MC   \n",
       "42  Which of the following describe you, if any? P...       False      MC   \n",
       "43  Which of the following describe you, if any? P...       False      MC   \n",
       "44  Which of the following describe you, if any? P...       False      MC   \n",
       "45  <span style=\"font-size:22px;\"><strong>Final Qu...       False      DB   \n",
       "46  How do you feel about the length of the survey...       False      MC   \n",
       "47  How easy or difficult was this survey to compl...       False      MC   \n",
       "\n",
       "   selector  \n",
       "0        TB  \n",
       "1   Browser  \n",
       "2        TB  \n",
       "3      SAVR  \n",
       "4      MAVR  \n",
       "5        DL  \n",
       "6        DL  \n",
       "7        DL  \n",
       "8        TB  \n",
       "9      SAVR  \n",
       "10     MAVR  \n",
       "11     MAVR  \n",
       "12       DL  \n",
       "13       DL  \n",
       "14     MAVR  \n",
       "15     MAVR  \n",
       "16       SB  \n",
       "17       SL  \n",
       "18     MAVR  \n",
       "19       TB  \n",
       "20   Likert  \n",
       "21   Likert  \n",
       "22   Likert  \n",
       "23   Likert  \n",
       "24   Likert  \n",
       "25   Likert  \n",
       "26   Likert  \n",
       "27     SAVR  \n",
       "28     MAVR  \n",
       "29       TB  \n",
       "30     MAVR  \n",
       "31     MAVR  \n",
       "32     MAVR  \n",
       "33     MAVR  \n",
       "34     MAVR  \n",
       "35     MAVR  \n",
       "36   Likert  \n",
       "37       TB  \n",
       "38     MAVR  \n",
       "39     MAVR  \n",
       "40     MAVR  \n",
       "41     MAVR  \n",
       "42     MAVR  \n",
       "43     MAVR  \n",
       "44     MAVR  \n",
       "45       TB  \n",
       "46     MAVR  \n",
       "47     MAVR  "
      ]
     },
     "execution_count": 6,
     "metadata": {},
     "output_type": "execute_result"
    }
   ],
   "source": [
    "schema_df"
   ]
  },
  {
   "cell_type": "code",
   "execution_count": 7,
   "id": "4b06de64",
   "metadata": {},
   "outputs": [],
   "source": [
    "# dictionary\n",
    "\n",
    "person = {\n",
    "    \"first\":\"Corey\",\n",
    "    \"last\":\"Jane\",\n",
    "    \"email\":\"CoreyMSchaffer@gmail.com\"\n",
    "}"
   ]
  },
  {
   "cell_type": "code",
   "execution_count": 8,
   "id": "135be1c5",
   "metadata": {},
   "outputs": [
    {
     "data": {
      "text/plain": [
       "{'first': 'Corey', 'last': 'Jane', 'email': 'CoreyMSchaffer@gmail.com'}"
      ]
     },
     "execution_count": 8,
     "metadata": {},
     "output_type": "execute_result"
    }
   ],
   "source": [
    "person"
   ]
  },
  {
   "cell_type": "code",
   "execution_count": 9,
   "id": "3c848705",
   "metadata": {},
   "outputs": [],
   "source": [
    "# dictionary in a list\n",
    "\n",
    "people = {\n",
    "    \"first\":[\"Corey\"],\n",
    "    \"last\":[\"Jane\"],\n",
    "    \"email\":[\"CoreyMSchaffer@gmail.com\"]\n",
    "}"
   ]
  },
  {
   "cell_type": "code",
   "execution_count": 10,
   "id": "8231aa24",
   "metadata": {},
   "outputs": [
    {
     "data": {
      "text/plain": [
       "{'first': ['Corey'], 'last': ['Jane'], 'email': ['CoreyMSchaffer@gmail.com']}"
      ]
     },
     "execution_count": 10,
     "metadata": {},
     "output_type": "execute_result"
    }
   ],
   "source": [
    "people"
   ]
  },
  {
   "cell_type": "code",
   "execution_count": 11,
   "id": "a107b008",
   "metadata": {},
   "outputs": [],
   "source": [
    "# dictionary with list of people - keys are columns and values are rows\n",
    "\n",
    "people = {\n",
    "    \"first\":[\"Corey\",\"Jane\",\"John\"],\n",
    "    \"last\":[\"Jane\",\"Doe\",\"Doe\"],\n",
    "    \"email\":[\"CoreyMSchaffer@gmail.com\",\"JaneDoe@email.com\",\"JohnDoe@email.com\"] \n",
    "}"
   ]
  },
  {
   "cell_type": "code",
   "execution_count": 12,
   "id": "ecb067dd",
   "metadata": {},
   "outputs": [
    {
     "data": {
      "text/plain": [
       "{'first': ['Corey', 'Jane', 'John'],\n",
       " 'last': ['Jane', 'Doe', 'Doe'],\n",
       " 'email': ['CoreyMSchaffer@gmail.com',\n",
       "  'JaneDoe@email.com',\n",
       "  'JohnDoe@email.com']}"
      ]
     },
     "execution_count": 12,
     "metadata": {},
     "output_type": "execute_result"
    }
   ],
   "source": [
    "people"
   ]
  },
  {
   "cell_type": "code",
   "execution_count": 13,
   "id": "7a778ac6",
   "metadata": {},
   "outputs": [
    {
     "data": {
      "text/plain": [
       "['CoreyMSchaffer@gmail.com', 'JaneDoe@email.com', 'JohnDoe@email.com']"
      ]
     },
     "execution_count": 13,
     "metadata": {},
     "output_type": "execute_result"
    }
   ],
   "source": [
    "# check the email\n",
    "\n",
    "people['email']"
   ]
  },
  {
   "cell_type": "code",
   "execution_count": 14,
   "id": "d9550d43",
   "metadata": {},
   "outputs": [],
   "source": [
    "# turn it into a dictionary\n",
    "\n",
    "import pandas as pd"
   ]
  },
  {
   "cell_type": "code",
   "execution_count": 15,
   "id": "fd5df88a",
   "metadata": {},
   "outputs": [],
   "source": [
    "df = pd.DataFrame(people)"
   ]
  },
  {
   "cell_type": "code",
   "execution_count": 16,
   "id": "58ed12e0",
   "metadata": {},
   "outputs": [
    {
     "data": {
      "text/html": [
       "<div>\n",
       "<style scoped>\n",
       "    .dataframe tbody tr th:only-of-type {\n",
       "        vertical-align: middle;\n",
       "    }\n",
       "\n",
       "    .dataframe tbody tr th {\n",
       "        vertical-align: top;\n",
       "    }\n",
       "\n",
       "    .dataframe thead th {\n",
       "        text-align: right;\n",
       "    }\n",
       "</style>\n",
       "<table border=\"1\" class=\"dataframe\">\n",
       "  <thead>\n",
       "    <tr style=\"text-align: right;\">\n",
       "      <th></th>\n",
       "      <th>first</th>\n",
       "      <th>last</th>\n",
       "      <th>email</th>\n",
       "    </tr>\n",
       "  </thead>\n",
       "  <tbody>\n",
       "    <tr>\n",
       "      <th>0</th>\n",
       "      <td>Corey</td>\n",
       "      <td>Jane</td>\n",
       "      <td>CoreyMSchaffer@gmail.com</td>\n",
       "    </tr>\n",
       "    <tr>\n",
       "      <th>1</th>\n",
       "      <td>Jane</td>\n",
       "      <td>Doe</td>\n",
       "      <td>JaneDoe@email.com</td>\n",
       "    </tr>\n",
       "    <tr>\n",
       "      <th>2</th>\n",
       "      <td>John</td>\n",
       "      <td>Doe</td>\n",
       "      <td>JohnDoe@email.com</td>\n",
       "    </tr>\n",
       "  </tbody>\n",
       "</table>\n",
       "</div>"
      ],
      "text/plain": [
       "   first  last                     email\n",
       "0  Corey  Jane  CoreyMSchaffer@gmail.com\n",
       "1   Jane   Doe         JaneDoe@email.com\n",
       "2   John   Doe         JohnDoe@email.com"
      ]
     },
     "execution_count": 16,
     "metadata": {},
     "output_type": "execute_result"
    }
   ],
   "source": [
    "df"
   ]
  },
  {
   "cell_type": "code",
   "execution_count": 17,
   "id": "b9863565",
   "metadata": {},
   "outputs": [],
   "source": [
    "# 0, 1, 2 are indexes which are unique values for rows but it doesn't need to be unique"
   ]
  },
  {
   "cell_type": "code",
   "execution_count": 18,
   "id": "7c34dce2",
   "metadata": {},
   "outputs": [
    {
     "data": {
      "text/plain": [
       "0    CoreyMSchaffer@gmail.com\n",
       "1           JaneDoe@email.com\n",
       "2           JohnDoe@email.com\n",
       "Name: email, dtype: object"
      ]
     },
     "execution_count": 18,
     "metadata": {},
     "output_type": "execute_result"
    }
   ],
   "source": [
    "# access info within the dataframe\n",
    "# access a single column 'email'\n",
    "# it returns a series\n",
    "\n",
    "df['email']"
   ]
  },
  {
   "cell_type": "code",
   "execution_count": 19,
   "id": "f2e47fcb",
   "metadata": {},
   "outputs": [
    {
     "data": {
      "text/plain": [
       "pandas.core.series.Series"
      ]
     },
     "execution_count": 19,
     "metadata": {},
     "output_type": "execute_result"
    }
   ],
   "source": [
    "# check the type of email\n",
    "\n",
    "type(df['email'])"
   ]
  },
  {
   "cell_type": "code",
   "execution_count": 20,
   "id": "01e00edf",
   "metadata": {},
   "outputs": [],
   "source": [
    "# a series is a list of data, which has a lot of functionality,\n",
    "# a one dimensional array or one row of a single column\n",
    "# a dataframe is a container of multiple objects\n",
    "# the dataframe that we used are 2 dimensional because it has rows and columns\n",
    "# a series also has an index (0,1,2)"
   ]
  },
  {
   "cell_type": "code",
   "execution_count": 21,
   "id": "66dadb14",
   "metadata": {},
   "outputs": [
    {
     "data": {
      "text/plain": [
       "0    CoreyMSchaffer@gmail.com\n",
       "1           JaneDoe@email.com\n",
       "2           JohnDoe@email.com\n",
       "Name: email, dtype: object"
      ]
     },
     "execution_count": 21,
     "metadata": {},
     "output_type": "execute_result"
    }
   ],
   "source": [
    "# dot notatation is also used\n",
    "\n",
    "df.email"
   ]
  },
  {
   "cell_type": "code",
   "execution_count": 22,
   "id": "273099d1",
   "metadata": {},
   "outputs": [],
   "source": [
    "# we can see that this returns thesame series objects\n",
    "# whichever you use, but [''] is recommended because dot notation can get complicated\n",
    "# so brackets will be used brackets throughout the series"
   ]
  },
  {
   "cell_type": "code",
   "execution_count": 23,
   "id": "f56bb97f",
   "metadata": {
    "scrolled": true
   },
   "outputs": [
    {
     "data": {
      "text/html": [
       "<div>\n",
       "<style scoped>\n",
       "    .dataframe tbody tr th:only-of-type {\n",
       "        vertical-align: middle;\n",
       "    }\n",
       "\n",
       "    .dataframe tbody tr th {\n",
       "        vertical-align: top;\n",
       "    }\n",
       "\n",
       "    .dataframe thead th {\n",
       "        text-align: right;\n",
       "    }\n",
       "</style>\n",
       "<table border=\"1\" class=\"dataframe\">\n",
       "  <thead>\n",
       "    <tr style=\"text-align: right;\">\n",
       "      <th></th>\n",
       "      <th>last</th>\n",
       "      <th>email</th>\n",
       "    </tr>\n",
       "  </thead>\n",
       "  <tbody>\n",
       "    <tr>\n",
       "      <th>0</th>\n",
       "      <td>Jane</td>\n",
       "      <td>CoreyMSchaffer@gmail.com</td>\n",
       "    </tr>\n",
       "    <tr>\n",
       "      <th>1</th>\n",
       "      <td>Doe</td>\n",
       "      <td>JaneDoe@email.com</td>\n",
       "    </tr>\n",
       "    <tr>\n",
       "      <th>2</th>\n",
       "      <td>Doe</td>\n",
       "      <td>JohnDoe@email.com</td>\n",
       "    </tr>\n",
       "  </tbody>\n",
       "</table>\n",
       "</div>"
      ],
      "text/plain": [
       "   last                     email\n",
       "0  Jane  CoreyMSchaffer@gmail.com\n",
       "1   Doe         JaneDoe@email.com\n",
       "2   Doe         JohnDoe@email.com"
      ]
     },
     "execution_count": 23,
     "metadata": {},
     "output_type": "execute_result"
    }
   ],
   "source": [
    "# if you want to access both last names and first names\n",
    "# there are two brackets to let panda know that you are accessing multiple columns\n",
    "# if only one bracket is used, panda will think you are accessing multiple column names\n",
    "\n",
    "df[['last','email']]"
   ]
  },
  {
   "cell_type": "code",
   "execution_count": 24,
   "id": "35d58c69",
   "metadata": {},
   "outputs": [],
   "source": [
    "# now that we're getting multiple columns,\n",
    "# this can no longer be a series\n",
    "# in this case it is a filtered dataframe\n",
    "# we can slice it as well\n"
   ]
  },
  {
   "cell_type": "code",
   "execution_count": 25,
   "id": "9015aaca",
   "metadata": {},
   "outputs": [
    {
     "data": {
      "text/plain": [
       "Index(['first', 'last', 'email'], dtype='object')"
      ]
     },
     "execution_count": 25,
     "metadata": {},
     "output_type": "execute_result"
    }
   ],
   "source": [
    "# if you want to see the column names\n",
    "\n",
    "df.columns"
   ]
  },
  {
   "cell_type": "code",
   "execution_count": 26,
   "id": "99e87f8c",
   "metadata": {},
   "outputs": [
    {
     "data": {
      "text/plain": [
       "first                       Corey\n",
       "last                         Jane\n",
       "email    CoreyMSchaffer@gmail.com\n",
       "Name: 0, dtype: object"
      ]
     },
     "execution_count": 26,
     "metadata": {},
     "output_type": "execute_result"
    }
   ],
   "source": [
    "# if you want to see the rows\n",
    "# use the loc and iloc indexes\n",
    "# iloc allows us to access the integer location, hence the name\n",
    "# [0] is the first row\n",
    "# index here are column names\n",
    "# iloc means integer location so it is for integer only\n",
    "\n",
    "df.iloc[0]\n"
   ]
  },
  {
   "cell_type": "code",
   "execution_count": 27,
   "id": "4430ce5b",
   "metadata": {},
   "outputs": [
    {
     "data": {
      "text/html": [
       "<div>\n",
       "<style scoped>\n",
       "    .dataframe tbody tr th:only-of-type {\n",
       "        vertical-align: middle;\n",
       "    }\n",
       "\n",
       "    .dataframe tbody tr th {\n",
       "        vertical-align: top;\n",
       "    }\n",
       "\n",
       "    .dataframe thead th {\n",
       "        text-align: right;\n",
       "    }\n",
       "</style>\n",
       "<table border=\"1\" class=\"dataframe\">\n",
       "  <thead>\n",
       "    <tr style=\"text-align: right;\">\n",
       "      <th></th>\n",
       "      <th>first</th>\n",
       "      <th>last</th>\n",
       "      <th>email</th>\n",
       "    </tr>\n",
       "  </thead>\n",
       "  <tbody>\n",
       "    <tr>\n",
       "      <th>0</th>\n",
       "      <td>Corey</td>\n",
       "      <td>Jane</td>\n",
       "      <td>CoreyMSchaffer@gmail.com</td>\n",
       "    </tr>\n",
       "    <tr>\n",
       "      <th>1</th>\n",
       "      <td>Jane</td>\n",
       "      <td>Doe</td>\n",
       "      <td>JaneDoe@email.com</td>\n",
       "    </tr>\n",
       "  </tbody>\n",
       "</table>\n",
       "</div>"
      ],
      "text/plain": [
       "   first  last                     email\n",
       "0  Corey  Jane  CoreyMSchaffer@gmail.com\n",
       "1   Jane   Doe         JaneDoe@email.com"
      ]
     },
     "execution_count": 27,
     "metadata": {},
     "output_type": "execute_result"
    }
   ],
   "source": [
    "# select multiple rows\n",
    "# use two brackets\n",
    "\n",
    "df.iloc[[0,1]]"
   ]
  },
  {
   "cell_type": "code",
   "execution_count": 28,
   "id": "eba1588f",
   "metadata": {},
   "outputs": [
    {
     "data": {
      "text/plain": [
       "0    CoreyMSchaffer@gmail.com\n",
       "1           JaneDoe@email.com\n",
       "Name: email, dtype: object"
      ]
     },
     "execution_count": 28,
     "metadata": {},
     "output_type": "execute_result"
    }
   ],
   "source": [
    "# can also select columns \n",
    "# df.iloc[[0,1], put the columns here]\n",
    "# so if we wanted to grab the email address of the first two rows\n",
    "# then pass the column number\n",
    "# now we can see the email addresses of the first two rows\n",
    "\n",
    "df.iloc[[0,1],2]"
   ]
  },
  {
   "cell_type": "code",
   "execution_count": 29,
   "id": "d3998f9c",
   "metadata": {},
   "outputs": [
    {
     "data": {
      "text/html": [
       "<div>\n",
       "<style scoped>\n",
       "    .dataframe tbody tr th:only-of-type {\n",
       "        vertical-align: middle;\n",
       "    }\n",
       "\n",
       "    .dataframe tbody tr th {\n",
       "        vertical-align: top;\n",
       "    }\n",
       "\n",
       "    .dataframe thead th {\n",
       "        text-align: right;\n",
       "    }\n",
       "</style>\n",
       "<table border=\"1\" class=\"dataframe\">\n",
       "  <thead>\n",
       "    <tr style=\"text-align: right;\">\n",
       "      <th></th>\n",
       "      <th>first</th>\n",
       "      <th>last</th>\n",
       "      <th>email</th>\n",
       "    </tr>\n",
       "  </thead>\n",
       "  <tbody>\n",
       "    <tr>\n",
       "      <th>0</th>\n",
       "      <td>Corey</td>\n",
       "      <td>Jane</td>\n",
       "      <td>CoreyMSchaffer@gmail.com</td>\n",
       "    </tr>\n",
       "    <tr>\n",
       "      <th>1</th>\n",
       "      <td>Jane</td>\n",
       "      <td>Doe</td>\n",
       "      <td>JaneDoe@email.com</td>\n",
       "    </tr>\n",
       "    <tr>\n",
       "      <th>2</th>\n",
       "      <td>John</td>\n",
       "      <td>Doe</td>\n",
       "      <td>JohnDoe@email.com</td>\n",
       "    </tr>\n",
       "  </tbody>\n",
       "</table>\n",
       "</div>"
      ],
      "text/plain": [
       "   first  last                     email\n",
       "0  Corey  Jane  CoreyMSchaffer@gmail.com\n",
       "1   Jane   Doe         JaneDoe@email.com\n",
       "2   John   Doe         JohnDoe@email.com"
      ]
     },
     "execution_count": 29,
     "metadata": {},
     "output_type": "execute_result"
    }
   ],
   "source": [
    "# loc - to search for label\n",
    "# we don't have custom index right now\n",
    "# so we're using default indexes right now\n",
    "# quick look at our dataframe\n",
    "df"
   ]
  },
  {
   "cell_type": "code",
   "execution_count": 30,
   "id": "7c9f865b",
   "metadata": {},
   "outputs": [
    {
     "data": {
      "text/plain": [
       "first                       Corey\n",
       "last                         Jane\n",
       "email    CoreyMSchaffer@gmail.com\n",
       "Name: 0, dtype: object"
      ]
     },
     "execution_count": 30,
     "metadata": {},
     "output_type": "execute_result"
    }
   ],
   "source": [
    "df.loc[0]"
   ]
  },
  {
   "cell_type": "code",
   "execution_count": 31,
   "id": "0f34b71c",
   "metadata": {},
   "outputs": [
    {
     "data": {
      "text/html": [
       "<div>\n",
       "<style scoped>\n",
       "    .dataframe tbody tr th:only-of-type {\n",
       "        vertical-align: middle;\n",
       "    }\n",
       "\n",
       "    .dataframe tbody tr th {\n",
       "        vertical-align: top;\n",
       "    }\n",
       "\n",
       "    .dataframe thead th {\n",
       "        text-align: right;\n",
       "    }\n",
       "</style>\n",
       "<table border=\"1\" class=\"dataframe\">\n",
       "  <thead>\n",
       "    <tr style=\"text-align: right;\">\n",
       "      <th></th>\n",
       "      <th>first</th>\n",
       "      <th>last</th>\n",
       "      <th>email</th>\n",
       "    </tr>\n",
       "  </thead>\n",
       "  <tbody>\n",
       "    <tr>\n",
       "      <th>0</th>\n",
       "      <td>Corey</td>\n",
       "      <td>Jane</td>\n",
       "      <td>CoreyMSchaffer@gmail.com</td>\n",
       "    </tr>\n",
       "    <tr>\n",
       "      <th>1</th>\n",
       "      <td>Jane</td>\n",
       "      <td>Doe</td>\n",
       "      <td>JaneDoe@email.com</td>\n",
       "    </tr>\n",
       "  </tbody>\n",
       "</table>\n",
       "</div>"
      ],
      "text/plain": [
       "   first  last                     email\n",
       "0  Corey  Jane  CoreyMSchaffer@gmail.com\n",
       "1   Jane   Doe         JaneDoe@email.com"
      ]
     },
     "execution_count": 31,
     "metadata": {},
     "output_type": "execute_result"
    }
   ],
   "source": [
    "# this looks similar to iloc\n",
    "# can also do\n",
    "\n",
    "df.loc[[0,1]]"
   ]
  },
  {
   "cell_type": "code",
   "execution_count": 32,
   "id": "c6ef99f3",
   "metadata": {},
   "outputs": [
    {
     "data": {
      "text/plain": [
       "0    CoreyMSchaffer@gmail.com\n",
       "1           JaneDoe@email.com\n",
       "Name: email, dtype: object"
      ]
     },
     "execution_count": 32,
     "metadata": {},
     "output_type": "execute_result"
    }
   ],
   "source": [
    "# can also pass in with second value\n",
    "# we can use labels\n",
    "\n",
    "df.loc[[0,1],'email']"
   ]
  },
  {
   "cell_type": "code",
   "execution_count": 33,
   "id": "8f2fcd46",
   "metadata": {},
   "outputs": [
    {
     "data": {
      "text/html": [
       "<div>\n",
       "<style scoped>\n",
       "    .dataframe tbody tr th:only-of-type {\n",
       "        vertical-align: middle;\n",
       "    }\n",
       "\n",
       "    .dataframe tbody tr th {\n",
       "        vertical-align: top;\n",
       "    }\n",
       "\n",
       "    .dataframe thead th {\n",
       "        text-align: right;\n",
       "    }\n",
       "</style>\n",
       "<table border=\"1\" class=\"dataframe\">\n",
       "  <thead>\n",
       "    <tr style=\"text-align: right;\">\n",
       "      <th></th>\n",
       "      <th>email</th>\n",
       "      <th>last</th>\n",
       "    </tr>\n",
       "  </thead>\n",
       "  <tbody>\n",
       "    <tr>\n",
       "      <th>0</th>\n",
       "      <td>CoreyMSchaffer@gmail.com</td>\n",
       "      <td>Jane</td>\n",
       "    </tr>\n",
       "    <tr>\n",
       "      <th>1</th>\n",
       "      <td>JaneDoe@email.com</td>\n",
       "      <td>Doe</td>\n",
       "    </tr>\n",
       "  </tbody>\n",
       "</table>\n",
       "</div>"
      ],
      "text/plain": [
       "                      email  last\n",
       "0  CoreyMSchaffer@gmail.com  Jane\n",
       "1         JaneDoe@email.com   Doe"
      ]
     },
     "execution_count": 33,
     "metadata": {},
     "output_type": "execute_result"
    }
   ],
   "source": [
    "# can also pass in a list of strings\n",
    "\n",
    "df.loc[[0,1],['email','last']]"
   ]
  },
  {
   "cell_type": "code",
   "execution_count": 36,
   "id": "851494d6",
   "metadata": {},
   "outputs": [
    {
     "data": {
      "text/plain": [
       "(83439, 48)"
      ]
     },
     "execution_count": 36,
     "metadata": {},
     "output_type": "execute_result"
    }
   ],
   "source": [
    "# let's go back to our dataset from StackOverFlow\n",
    "# check how many rows and columns,use the shape attribute\n",
    "\n",
    "df = pd.read_csv('/Users/jean110284/Desktop/Everything/MJUPython/survey_results_public.csv')\n",
    "df.shape"
   ]
  },
  {
   "cell_type": "code",
   "execution_count": 38,
   "id": "292a61db",
   "metadata": {},
   "outputs": [
    {
     "data": {
      "text/plain": [
       "Index(['ResponseId', 'MainBranch', 'Employment', 'Country', 'US_State',\n",
       "       'UK_Country', 'EdLevel', 'Age1stCode', 'LearnCode', 'YearsCode',\n",
       "       'YearsCodePro', 'DevType', 'OrgSize', 'Currency', 'CompTotal',\n",
       "       'CompFreq', 'LanguageHaveWorkedWith', 'LanguageWantToWorkWith',\n",
       "       'DatabaseHaveWorkedWith', 'DatabaseWantToWorkWith',\n",
       "       'PlatformHaveWorkedWith', 'PlatformWantToWorkWith',\n",
       "       'WebframeHaveWorkedWith', 'WebframeWantToWorkWith',\n",
       "       'MiscTechHaveWorkedWith', 'MiscTechWantToWorkWith',\n",
       "       'ToolsTechHaveWorkedWith', 'ToolsTechWantToWorkWith',\n",
       "       'NEWCollabToolsHaveWorkedWith', 'NEWCollabToolsWantToWorkWith', 'OpSys',\n",
       "       'NEWStuck', 'NEWSOSites', 'SOVisitFreq', 'SOAccount', 'SOPartFreq',\n",
       "       'SOComm', 'NEWOtherComms', 'Age', 'Gender', 'Trans', 'Sexuality',\n",
       "       'Ethnicity', 'Accessibility', 'MentalHealth', 'SurveyLength',\n",
       "       'SurveyEase', 'ConvertedCompYearly'],\n",
       "      dtype='object')"
      ]
     },
     "execution_count": 38,
     "metadata": {},
     "output_type": "execute_result"
    }
   ],
   "source": [
    "# let's grab all of the responses\n",
    "# check first the columnn names\n",
    "df.columns"
   ]
  },
  {
   "cell_type": "code",
   "execution_count": 40,
   "id": "5a1cdb78",
   "metadata": {},
   "outputs": [
    {
     "data": {
      "text/plain": [
       "0                              NaN\n",
       "1                              NaN\n",
       "2                           Heroku\n",
       "3                              NaN\n",
       "4                              NaN\n",
       "                   ...            \n",
       "83434                          AWS\n",
       "83435                          NaN\n",
       "83436    AWS;Google Cloud Platform\n",
       "83437                       Heroku\n",
       "83438              Microsoft Azure\n",
       "Name: PlatformHaveWorkedWith, Length: 83439, dtype: object"
      ]
     },
     "execution_count": 40,
     "metadata": {},
     "output_type": "execute_result"
    }
   ],
   "source": [
    "df['PlatformHaveWorkedWith']"
   ]
  },
  {
   "cell_type": "code",
   "execution_count": 41,
   "id": "cbdab303",
   "metadata": {},
   "outputs": [
    {
     "data": {
      "text/plain": [
       "AWS                                                                                              11454\n",
       "Microsoft Azure                                                                                   6660\n",
       "Google Cloud Platform                                                                             4654\n",
       "Heroku                                                                                            3865\n",
       "AWS;Google Cloud Platform                                                                         3116\n",
       "                                                                                                 ...  \n",
       "AWS;Google Cloud Platform;Heroku;IBM Cloud or Watson;Oracle Cloud Infrastructure                     1\n",
       "AWS;DigitalOcean;Google Cloud Platform;Heroku;IBM Cloud or Watson;Oracle Cloud Infrastructure        1\n",
       "DigitalOcean;Google Cloud Platform;Heroku;Microsoft Azure;Oracle Cloud Infrastructure                1\n",
       "DigitalOcean;IBM Cloud or Watson;Microsoft Azure;Oracle Cloud Infrastructure                         1\n",
       "DigitalOcean;Heroku;IBM Cloud or Watson;Oracle Cloud Infrastructure                                  1\n",
       "Name: PlatformHaveWorkedWith, Length: 118, dtype: int64"
      ]
     },
     "execution_count": 41,
     "metadata": {},
     "output_type": "execute_result"
    }
   ],
   "source": [
    "# get the count of unique values\n",
    "\n",
    "df['PlatformHaveWorkedWith'].value_counts()"
   ]
  },
  {
   "cell_type": "code",
   "execution_count": 42,
   "id": "48fbefe1",
   "metadata": {},
   "outputs": [
    {
     "data": {
      "text/plain": [
       "MySQL                                                                               4777\n",
       "Microsoft SQL Server                                                                3823\n",
       "PostgreSQL                                                                          3537\n",
       "SQLite                                                                              2191\n",
       "MongoDB                                                                             1656\n",
       "                                                                                    ... \n",
       "Couchbase;MariaDB;Microsoft SQL Server;MongoDB;MySQL;SQLite                            1\n",
       "Cassandra;DynamoDB;Elasticsearch;Firebase;MongoDB                                      1\n",
       "DynamoDB;Firebase;MariaDB;Microsoft SQL Server;MongoDB;MySQL;Oracle;Redis;SQLite       1\n",
       "Couchbase;Elasticsearch;Firebase;Microsoft SQL Server;MongoDB;MySQL;SQLite             1\n",
       "DynamoDB;IBM DB2;Microsoft SQL Server;PostgreSQL;Redis                                 1\n",
       "Name: DatabaseHaveWorkedWith, Length: 3072, dtype: int64"
      ]
     },
     "execution_count": 42,
     "metadata": {},
     "output_type": "execute_result"
    }
   ],
   "source": [
    "# get the count of unique values\n",
    "\n",
    "df['DatabaseHaveWorkedWith'].value_counts()"
   ]
  },
  {
   "cell_type": "code",
   "execution_count": 43,
   "id": "2b8061ec",
   "metadata": {},
   "outputs": [
    {
     "data": {
      "text/plain": [
       "ResponseId                                                                      1\n",
       "MainBranch                                         I am a developer by profession\n",
       "Employment                      Independent contractor, freelancer, or self-em...\n",
       "Country                                                                  Slovakia\n",
       "US_State                                                                      NaN\n",
       "UK_Country                                                                    NaN\n",
       "EdLevel                         Secondary school (e.g. American high school, G...\n",
       "Age1stCode                                                          18 - 24 years\n",
       "LearnCode                       Coding Bootcamp;Other online resources (ex: vi...\n",
       "YearsCode                                                                     NaN\n",
       "YearsCodePro                                                                  NaN\n",
       "DevType                                                         Developer, mobile\n",
       "OrgSize                                                        20 to 99 employees\n",
       "Currency                                                        EUR European Euro\n",
       "CompTotal                                                                  4800.0\n",
       "CompFreq                                                                  Monthly\n",
       "LanguageHaveWorkedWith              C++;HTML/CSS;JavaScript;Objective-C;PHP;Swift\n",
       "LanguageWantToWorkWith                                                      Swift\n",
       "DatabaseHaveWorkedWith                                          PostgreSQL;SQLite\n",
       "DatabaseWantToWorkWith                                                     SQLite\n",
       "PlatformHaveWorkedWith                                                        NaN\n",
       "PlatformWantToWorkWith                                                        NaN\n",
       "WebframeHaveWorkedWith                                            Laravel;Symfony\n",
       "WebframeWantToWorkWith                                                        NaN\n",
       "MiscTechHaveWorkedWith                                                        NaN\n",
       "MiscTechWantToWorkWith                                                        NaN\n",
       "ToolsTechHaveWorkedWith                                                       NaN\n",
       "ToolsTechWantToWorkWith                                                       NaN\n",
       "NEWCollabToolsHaveWorkedWith                                       PHPStorm;Xcode\n",
       "NEWCollabToolsWantToWorkWith                                           Atom;Xcode\n",
       "OpSys                                                                       MacOS\n",
       "NEWStuck                        Call a coworker or friend;Visit Stack Overflow...\n",
       "NEWSOSites                                                         Stack Overflow\n",
       "SOVisitFreq                                                Multiple times per day\n",
       "SOAccount                                                                     Yes\n",
       "SOPartFreq                                        A few times per month or weekly\n",
       "SOComm                                                            Yes, definitely\n",
       "NEWOtherComms                                                                  No\n",
       "Age                                                               25-34 years old\n",
       "Gender                                                                        Man\n",
       "Trans                                                                          No\n",
       "Sexuality                                                 Straight / Heterosexual\n",
       "Ethnicity                                            White or of European descent\n",
       "Accessibility                                                   None of the above\n",
       "MentalHealth                                                    None of the above\n",
       "SurveyLength                                                Appropriate in length\n",
       "SurveyEase                                                                   Easy\n",
       "ConvertedCompYearly                                                       62268.0\n",
       "Name: 0, dtype: object"
      ]
     },
     "execution_count": 43,
     "metadata": {},
     "output_type": "execute_result"
    }
   ],
   "source": [
    "# grab first row and same column for that row\n",
    "\n",
    "df.loc[0]"
   ]
  },
  {
   "cell_type": "code",
   "execution_count": 46,
   "id": "0bb81291",
   "metadata": {},
   "outputs": [
    {
     "data": {
      "text/plain": [
       "0    Independent contractor, freelancer, or self-em...\n",
       "1                                   Student, full-time\n",
       "2                                   Student, full-time\n",
       "Name: Employment, dtype: object"
      ]
     },
     "execution_count": 46,
     "metadata": {},
     "output_type": "execute_result"
    }
   ],
   "source": [
    "# if you want to get the data on a certain ids/rows\n",
    "\n",
    "df.loc[[0,1,2],'Employment']"
   ]
  },
  {
   "cell_type": "code",
   "execution_count": 47,
   "id": "13a04bf1",
   "metadata": {},
   "outputs": [
    {
     "data": {
      "text/plain": [
       "0    Independent contractor, freelancer, or self-em...\n",
       "1                                   Student, full-time\n",
       "2                                   Student, full-time\n",
       "Name: Employment, dtype: object"
      ]
     },
     "execution_count": 47,
     "metadata": {},
     "output_type": "execute_result"
    }
   ],
   "source": [
    "# slicing - no need to wrap in bracket\n",
    "\n",
    "df.loc[0:2,'Employment']"
   ]
  },
  {
   "cell_type": "code",
   "execution_count": 48,
   "id": "771b5a26",
   "metadata": {},
   "outputs": [],
   "source": [
    "# same result as above"
   ]
  },
  {
   "cell_type": "code",
   "execution_count": 49,
   "id": "72e9c779",
   "metadata": {},
   "outputs": [
    {
     "data": {
      "text/plain": [
       "Index(['ResponseId', 'MainBranch', 'Employment', 'Country', 'US_State',\n",
       "       'UK_Country', 'EdLevel', 'Age1stCode', 'LearnCode', 'YearsCode',\n",
       "       'YearsCodePro', 'DevType', 'OrgSize', 'Currency', 'CompTotal',\n",
       "       'CompFreq', 'LanguageHaveWorkedWith', 'LanguageWantToWorkWith',\n",
       "       'DatabaseHaveWorkedWith', 'DatabaseWantToWorkWith',\n",
       "       'PlatformHaveWorkedWith', 'PlatformWantToWorkWith',\n",
       "       'WebframeHaveWorkedWith', 'WebframeWantToWorkWith',\n",
       "       'MiscTechHaveWorkedWith', 'MiscTechWantToWorkWith',\n",
       "       'ToolsTechHaveWorkedWith', 'ToolsTechWantToWorkWith',\n",
       "       'NEWCollabToolsHaveWorkedWith', 'NEWCollabToolsWantToWorkWith', 'OpSys',\n",
       "       'NEWStuck', 'NEWSOSites', 'SOVisitFreq', 'SOAccount', 'SOPartFreq',\n",
       "       'SOComm', 'NEWOtherComms', 'Age', 'Gender', 'Trans', 'Sexuality',\n",
       "       'Ethnicity', 'Accessibility', 'MentalHealth', 'SurveyLength',\n",
       "       'SurveyEase', 'ConvertedCompYearly'],\n",
       "      dtype='object')"
      ]
     },
     "execution_count": 49,
     "metadata": {},
     "output_type": "execute_result"
    }
   ],
   "source": [
    "df.columns"
   ]
  },
  {
   "cell_type": "code",
   "execution_count": 51,
   "id": "7ffeb7a8",
   "metadata": {},
   "outputs": [
    {
     "data": {
      "text/html": [
       "<div>\n",
       "<style scoped>\n",
       "    .dataframe tbody tr th:only-of-type {\n",
       "        vertical-align: middle;\n",
       "    }\n",
       "\n",
       "    .dataframe tbody tr th {\n",
       "        vertical-align: top;\n",
       "    }\n",
       "\n",
       "    .dataframe thead th {\n",
       "        text-align: right;\n",
       "    }\n",
       "</style>\n",
       "<table border=\"1\" class=\"dataframe\">\n",
       "  <thead>\n",
       "    <tr style=\"text-align: right;\">\n",
       "      <th></th>\n",
       "      <th>EdLevel</th>\n",
       "      <th>Age1stCode</th>\n",
       "      <th>LearnCode</th>\n",
       "    </tr>\n",
       "  </thead>\n",
       "  <tbody>\n",
       "    <tr>\n",
       "      <th>0</th>\n",
       "      <td>Secondary school (e.g. American high school, G...</td>\n",
       "      <td>18 - 24 years</td>\n",
       "      <td>Coding Bootcamp;Other online resources (ex: vi...</td>\n",
       "    </tr>\n",
       "    <tr>\n",
       "      <th>1</th>\n",
       "      <td>Bachelor’s degree (B.A., B.S., B.Eng., etc.)</td>\n",
       "      <td>11 - 17 years</td>\n",
       "      <td>Other online resources (ex: videos, blogs, etc...</td>\n",
       "    </tr>\n",
       "    <tr>\n",
       "      <th>2</th>\n",
       "      <td>Bachelor’s degree (B.A., B.S., B.Eng., etc.)</td>\n",
       "      <td>11 - 17 years</td>\n",
       "      <td>Other online resources (ex: videos, blogs, etc...</td>\n",
       "    </tr>\n",
       "  </tbody>\n",
       "</table>\n",
       "</div>"
      ],
      "text/plain": [
       "                                             EdLevel     Age1stCode  \\\n",
       "0  Secondary school (e.g. American high school, G...  18 - 24 years   \n",
       "1       Bachelor’s degree (B.A., B.S., B.Eng., etc.)  11 - 17 years   \n",
       "2       Bachelor’s degree (B.A., B.S., B.Eng., etc.)  11 - 17 years   \n",
       "\n",
       "                                           LearnCode  \n",
       "0  Coding Bootcamp;Other online resources (ex: vi...  \n",
       "1  Other online resources (ex: videos, blogs, etc...  \n",
       "2  Other online resources (ex: videos, blogs, etc...  "
      ]
     },
     "execution_count": 51,
     "metadata": {},
     "output_type": "execute_result"
    }
   ],
   "source": [
    "# slice columns from row 1 to 3 and from column edlevel to learn code\n",
    "\n",
    "df.loc[0:2, 'EdLevel':'LearnCode']"
   ]
  },
  {
   "cell_type": "code",
   "execution_count": 52,
   "id": "0e48784a",
   "metadata": {},
   "outputs": [],
   "source": [
    "# END June 23, 2022 | 12:20 PM"
   ]
  },
  {
   "cell_type": "code",
   "execution_count": null,
   "id": "75204694",
   "metadata": {},
   "outputs": [],
   "source": []
  }
 ],
 "metadata": {
  "kernelspec": {
   "display_name": "Python 3 (ipykernel)",
   "language": "python",
   "name": "python3"
  },
  "language_info": {
   "codemirror_mode": {
    "name": "ipython",
    "version": 3
   },
   "file_extension": ".py",
   "mimetype": "text/x-python",
   "name": "python",
   "nbconvert_exporter": "python",
   "pygments_lexer": "ipython3",
   "version": "3.9.7"
  }
 },
 "nbformat": 4,
 "nbformat_minor": 5
}
